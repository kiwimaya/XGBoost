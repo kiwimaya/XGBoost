{
 "cells": [
  {
   "cell_type": "markdown",
   "id": "0b242db1",
   "metadata": {},
   "source": [
    "What is multi-class classification?"
   ]
  },
  {
   "cell_type": "code",
   "execution_count": null,
   "id": "d7711ef7",
   "metadata": {
    "vscode": {
     "languageId": "plaintext"
    }
   },
   "outputs": [],
   "source": [
    "#In machine learning and statistical classification, multiclass classification or multinomial classification is the problem of classifying instances into one of three\n",
    "# or more classes (classifying instances into one of two classes is called binary classification)."
   ]
  },
  {
   "cell_type": "markdown",
   "id": "cc3f17db",
   "metadata": {},
   "source": [
    "What is the difference between one-vs-rest and one-vs-one strategies in multi-class classification?"
   ]
  },
  {
   "cell_type": "code",
   "execution_count": null,
   "id": "e7d28f19",
   "metadata": {
    "vscode": {
     "languageId": "plaintext"
    }
   },
   "outputs": [],
   "source": [
    "#The One-vs-Rest strategy splits a multi-class classification into one binary classification problem per class.\n",
    "# The One-vs-One strategy splits a multi-class classification into one binary classification problem per each pair of classes"
   ]
  },
  {
   "cell_type": "markdown",
   "id": "bee2574a",
   "metadata": {},
   "source": [
    "What evaluation metrics can be used to evaluate the performance of a multi-class classification model?"
   ]
  },
  {
   "cell_type": "code",
   "execution_count": null,
   "id": "2618a5f6",
   "metadata": {
    "vscode": {
     "languageId": "plaintext"
    }
   },
   "outputs": [],
   "source": [
    "#Confusion matrix, precision, reacll, F1, ROC, AUC, Log loss"
   ]
  },
  {
   "cell_type": "markdown",
   "id": "393f49d1",
   "metadata": {},
   "source": [
    "How do you generate an ROC curve for a multi-class classification problem? Please provide the code"
   ]
  },
  {
   "cell_type": "code",
   "execution_count": null,
   "id": "dd2ddb1e",
   "metadata": {
    "vscode": {
     "languageId": "plaintext"
    }
   },
   "outputs": [],
   "source": [
    "#y_prob = xgb_model.predict(dtest, output_margin=True)\n",
    "#n_classes = len(np.unique(y_train))\n",
    "#fpr = dict()\n",
    "#tpr = dict()\n",
    "#roc_auc = dict()\n",
    "#for i in range(n_classes):\n",
    "# fpr[i], tpr[i], _ = roc_curve((y_test == i).astype(int), y_prob[:, i])\n",
    " #   roc_auc[i] = auc(fpr[i], tpr[i])\n",
    "\n",
    "# Plot the ROC curves\n",
    "#plt.figure()\n",
    "#colors = ['darkorange', 'green', 'blue']\n",
    "#for i, color in zip(range(n_classes), colors):\n",
    " #   plt.plot(fpr[i], tpr[i], color=color, lw=2,\n",
    " #            label='ROC curve of class {0} (area = {1:0.2f})'\n",
    "  #           ''.format(i, roc_auc[i]))\n",
    "\n",
    "# Plot the diagonal line (baseline)\n",
    "#plt.plot([0, 1], [0, 1], 'k--', lw=2)\n",
    "#plt.xlim([0.0, 1.0])\n",
    "#plt.ylim([0.0, 1.05])\n",
    "#plt.xlabel('False Positive Rate')\n",
    "#plt.ylabel('True Positive Rate')\n",
    "#plt.title('Receiver Operating Characteristic (ROC) Curve')\n",
    "#plt.legend(loc=\"lower right\")\n",
    "#plt.show()"
   ]
  },
  {
   "cell_type": "markdown",
   "id": "4948f6f0",
   "metadata": {},
   "source": [
    "What impacts the performance of XGBoost for multi-class classification?"
   ]
  },
  {
   "cell_type": "markdown",
   "id": "41bc2439",
   "metadata": {},
   "source": [
    "How do you tune hyperparameters for XGBoost models in a multi-class classification task?"
   ]
  },
  {
   "cell_type": "code",
   "execution_count": null,
   "id": "4fd21aa0",
   "metadata": {
    "vscode": {
     "languageId": "plaintext"
    }
   },
   "outputs": [],
   "source": [
    "# Set the XGBoost parameters\n",
    "#params = {\n",
    " #   'objective': 'multi:softmax',\n",
    " #   'num_class': 10,\n",
    " #   'max_depth': 6,\n",
    "  #  'eta': 0.3,\n",
    "#    'subsample': 0.8,\n",
    "  #  'colsample_bytree': 0.8"
   ]
  },
  {
   "cell_type": "markdown",
   "id": "6ff6f6c1",
   "metadata": {},
   "source": [
    "What is the purpose of the num_boost_round parameter in XGBoost's train() function for hyperparameter tuning?"
   ]
  },
  {
   "cell_type": "code",
   "execution_count": null,
   "id": "0a8f8663",
   "metadata": {
    "vscode": {
     "languageId": "plaintext"
    }
   },
   "outputs": [],
   "source": [
    "#In each boosting round, XGBoost plants one more decision tree to improve the collective score of the previous ones."
   ]
  },
  {
   "cell_type": "markdown",
   "id": "8fd52b18",
   "metadata": {},
   "source": [
    "What is the purpose of the early_stopping_rounds parameter in XGBoost's train() function for hyperparameter tuning"
   ]
  },
  {
   "cell_type": "code",
   "execution_count": null,
   "id": "f92112c6",
   "metadata": {
    "vscode": {
     "languageId": "plaintext"
    }
   },
   "outputs": [],
   "source": [
    "#The early stopping rounds parameter takes an integer value which tells the algorithm when to stop\n",
    "# if there's no further improvement in the evaluation metric."
   ]
  },
  {
   "cell_type": "markdown",
   "id": "08e670d4",
   "metadata": {},
   "source": [
    "How does XGBoost handle class imbalance in multi-class classification tasks?"
   ]
  },
  {
   "cell_type": "markdown",
   "id": "a38ab502",
   "metadata": {},
   "source": [
    "What is the purpose of the num_class parameter in XGBoost's train() function for multi-class classification tasks?"
   ]
  },
  {
   "cell_type": "code",
   "execution_count": null,
   "id": "7fed49ec",
   "metadata": {
    "vscode": {
     "languageId": "plaintext"
    }
   },
   "outputs": [],
   "source": [
    "#specifies the number of classes in your dataset"
   ]
  },
  {
   "cell_type": "markdown",
   "id": "d0c5156a",
   "metadata": {},
   "source": [
    "What is the purpose of the objective parameter in XGBoost's train() function for multi-class classification tasks?\n"
   ]
  },
  {
   "cell_type": "code",
   "execution_count": null,
   "id": "32fb9987",
   "metadata": {
    "vscode": {
     "languageId": "plaintext"
    }
   },
   "outputs": [],
   "source": [
    "#minimizing loss of an objective function against a dataset"
   ]
  },
  {
   "cell_type": "markdown",
   "id": "fd463e4b",
   "metadata": {},
   "source": [
    "What are some commonly used objective functions for multi-class classification with XGBoost?"
   ]
  },
  {
   "cell_type": "markdown",
   "id": "3a5fadf8",
   "metadata": {},
   "source": [
    "What is the softmax function and how is it used in multi-class classification with XGBoost?"
   ]
  },
  {
   "cell_type": "code",
   "execution_count": null,
   "id": "589063a8",
   "metadata": {
    "vscode": {
     "languageId": "plaintext"
    }
   },
   "outputs": [],
   "source": [
    "#In Softmax you will get the class with the maximum probability as output"
   ]
  },
  {
   "cell_type": "markdown",
   "id": "f6e65c08",
   "metadata": {},
   "source": [
    "What is the purpose of the softmax parameter in XGBoost's predict() function for multi-class classification tasks?"
   ]
  },
  {
   "cell_type": "markdown",
   "id": "3469dd9e",
   "metadata": {},
   "source": [
    "How does the softmax function help to handle class imbalance in multi-class classification tasks?"
   ]
  },
  {
   "cell_type": "code",
   "execution_count": null,
   "id": "ae933bf4",
   "metadata": {
    "vscode": {
     "languageId": "plaintext"
    }
   },
   "outputs": [],
   "source": [
    "#Upsampling the minority class: This involves generating synthetic samples for the minority class to balance the dataset."
   ]
  },
  {
   "cell_type": "markdown",
   "id": "c6307537",
   "metadata": {},
   "source": [
    "How can you interpret the output of the softmax function in a multi-class classification problem?"
   ]
  },
  {
   "cell_type": "code",
   "execution_count": null,
   "id": "209e48e2",
   "metadata": {
    "vscode": {
     "languageId": "plaintext"
    }
   },
   "outputs": [],
   "source": [
    "#the softmax function is a function that turns a vector of K real values into a vector of K real values that sum to 1. The input values can be positive, negative, zero, or greater than one, but the softmax transforms them into values between 0 and 1, so that they can be interpreted as probabilities."
   ]
  },
  {
   "cell_type": "markdown",
   "id": "2b0b068d",
   "metadata": {},
   "source": [
    "What are some potential issues with using the softmax function in multi-class classification with XGBoost?"
   ]
  },
  {
   "cell_type": "code",
   "execution_count": null,
   "id": "b90a0a79",
   "metadata": {
    "vscode": {
     "languageId": "plaintext"
    }
   },
   "outputs": [],
   "source": [
    "#XGBoost does not perform so well on sparse and unstructured data."
   ]
  }
 ],
 "metadata": {
  "kernelspec": {
   "display_name": "Python 3 (ipykernel)",
   "language": "python",
   "name": "python3"
  },
  "language_info": {
   "codemirror_mode": {
    "name": "ipython",
    "version": 3
   },
   "file_extension": ".py",
   "mimetype": "text/x-python",
   "name": "python",
   "nbconvert_exporter": "python",
   "pygments_lexer": "ipython3",
   "version": "3.9.7"
  }
 },
 "nbformat": 4,
 "nbformat_minor": 5
}
